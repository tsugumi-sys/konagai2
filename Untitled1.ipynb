{
 "cells": [
  {
   "cell_type": "code",
   "execution_count": 3,
   "id": "c94d6bec-81e0-420a-9360-3603077c172e",
   "metadata": {},
   "outputs": [
    {
     "name": "stdout",
     "output_type": "stream",
     "text": [
      "Package              Version\n",
      "-------------------- ---------\n",
      "anyio                3.5.0\n",
      "argon2-cffi          21.3.0\n",
      "argon2-cffi-bindings 21.2.0\n",
      "async-generator      1.10\n",
      "attrs                21.4.0\n",
      "Babel                2.10.1\n",
      "backcall             0.2.0\n",
      "bleach               4.1.0\n",
      "certifi              2021.10.8\n",
      "cffi                 1.15.0\n",
      "charset-normalizer   2.0.12\n",
      "contextvars          2.4\n",
      "cycler               0.11.0\n",
      "dataclasses          0.8\n",
      "decorator            5.1.1\n",
      "defusedxml           0.7.1\n",
      "entrypoints          0.4\n",
      "et-xmlfile           1.1.0\n",
      "idna                 3.3\n",
      "immutables           0.17\n",
      "importlib-metadata   4.8.3\n",
      "ipykernel            5.5.6\n",
      "ipython              7.16.3\n",
      "ipython-genutils     0.2.0\n",
      "ipywidgets           7.7.0\n",
      "japanize-matplotlib  1.1.3\n",
      "jedi                 0.17.2\n",
      "Jinja2               3.0.3\n",
      "json5                0.9.6\n",
      "jsonschema           3.2.0\n",
      "jupyter              1.0.0\n",
      "jupyter-client       7.1.2\n",
      "jupyter-console      6.4.3\n",
      "jupyter-core         4.9.2\n",
      "jupyter-server       1.13.1\n",
      "jupyterlab           3.2.9\n",
      "jupyterlab-pygments  0.1.2\n",
      "jupyterlab-server    2.10.3\n",
      "jupyterlab-widgets   1.1.0\n",
      "kiwisolver           1.3.1\n",
      "MarkupSafe           2.0.1\n",
      "matplotlib           3.3.4\n",
      "mistune              0.8.4\n",
      "nbclassic            0.3.5\n",
      "nbclient             0.5.9\n",
      "nbconvert            6.0.7\n",
      "nbformat             5.1.3\n",
      "nest-asyncio         1.5.5\n",
      "notebook             6.4.10\n",
      "numpy                1.19.5\n",
      "openpyxl             3.0.9\n",
      "packaging            21.3\n",
      "pandas               1.1.5\n",
      "pandocfilters        1.5.0\n",
      "parso                0.7.1\n",
      "pexpect              4.8.0\n",
      "pickleshare          0.7.5\n",
      "Pillow               8.4.0\n",
      "pip                  21.3.1\n",
      "prometheus-client    0.14.1\n",
      "prompt-toolkit       3.0.29\n",
      "ptyprocess           0.7.0\n",
      "pycparser            2.21\n",
      "Pygments             2.12.0\n",
      "pygrib               2.1.4\n",
      "pyparsing            3.0.8\n",
      "pyproj               3.0.1\n",
      "pyrsistent           0.18.0\n",
      "python-dateutil      2.8.2\n",
      "pytz                 2022.1\n",
      "pyzmq                22.3.0\n",
      "qtconsole            5.2.2\n",
      "QtPy                 2.0.1\n",
      "requests             2.27.1\n",
      "Send2Trash           1.8.0\n",
      "setuptools           57.0.0\n",
      "six                  1.16.0\n",
      "sniffio              1.2.0\n",
      "terminado            0.12.1\n",
      "testpath             0.6.0\n",
      "tornado              6.1\n",
      "traitlets            4.3.3\n",
      "typing_extensions    4.1.1\n",
      "urllib3              1.26.9\n",
      "wcwidth              0.2.5\n",
      "webencodings         0.5.1\n",
      "websocket-client     1.3.1\n",
      "widgetsnbextension   3.6.0\n",
      "xlrd                 2.0.1\n",
      "zipp                 3.6.0\n"
     ]
    }
   ],
   "source": [
    "!pip list"
   ]
  },
  {
   "cell_type": "code",
   "execution_count": 4,
   "id": "780df913-646b-40c1-afde-adf83fc370a4",
   "metadata": {},
   "outputs": [
    {
     "ename": "SyntaxError",
     "evalue": "invalid syntax (<ipython-input-4-258b4349ea91>, line 1)",
     "output_type": "error",
     "traceback": [
      "\u001b[0;36m  File \u001b[0;32m\"<ipython-input-4-258b4349ea91>\"\u001b[0;36m, line \u001b[0;32m1\u001b[0m\n\u001b[0;31m    python -m pip install cartopy\u001b[0m\n\u001b[0m                ^\u001b[0m\n\u001b[0;31mSyntaxError\u001b[0m\u001b[0;31m:\u001b[0m invalid syntax\n"
     ]
    }
   ],
   "source": [
    "pip install cartopy"
   ]
  },
  {
   "cell_type": "code",
   "execution_count": null,
   "id": "72dd7a15-d4d8-44d8-bbcf-3ffd3cf6b8df",
   "metadata": {},
   "outputs": [],
   "source": []
  }
 ],
 "metadata": {
  "kernelspec": {
   "display_name": "Python 3",
   "language": "python",
   "name": "python3"
  },
  "language_info": {
   "codemirror_mode": {
    "name": "ipython",
    "version": 3
   },
   "file_extension": ".py",
   "mimetype": "text/x-python",
   "name": "python",
   "nbconvert_exporter": "python",
   "pygments_lexer": "ipython3",
   "version": "3.6.8"
  }
 },
 "nbformat": 4,
 "nbformat_minor": 5
}

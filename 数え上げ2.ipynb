{
 "cells": [
  {
   "cell_type": "code",
   "execution_count": 2,
   "id": "e16bd3c6",
   "metadata": {},
   "outputs": [],
   "source": [
    "import pandas as pd\n",
    "df_2006 = pd.read_csv(\"雲海2006.csv\")\n",
    "df_2007 = pd.read_csv(\"雲海2007.csv\",header=1)\n",
    "df_2008 = pd.read_csv(\"雲海2008.csv\",header=1)\n",
    "df_2009 = pd.read_csv(\"雲海2009.csv\",header=1)\n",
    "df_2010 = pd.read_csv(\"雲海2010.csv\",header=1)\n",
    "df_2011 = pd.read_csv(\"雲海2011.csv\",header=1)\n",
    "df_2012 = pd.read_csv(\"2012.csv\",header=1)\n",
    "df_2013 = pd.read_csv(\"2013.csv\",header=1)\n",
    "df_2014 = pd.read_csv(\"2014.csv\",header=1)\n",
    "df_2015 = pd.read_csv(\"2015.csv\",header=1)\n",
    "df_2016 = pd.read_csv(\"2016.csv\",header=1)\n",
    "df_2017 = pd.read_csv(\"2017.csv\",header=1)\n",
    "df_2018 = pd.read_csv(\"2018.csv\",header=1)\n",
    "df_2019 = pd.read_csv(\"2019.csv\",header=1)\n",
    "df_2020 = pd.read_csv(\"2020.csv\",header=1)\n",
    "df_2021 = pd.read_csv(\"2021.csv\",header=1)"
   ]
  },
  {
   "cell_type": "code",
   "execution_count": 10,
   "id": "4b786ef6",
   "metadata": {},
   "outputs": [
    {
     "data": {
      "text/plain": [
       "×    20\n",
       "○     9\n",
       "△     2\n",
       "Name: 出現, dtype: int64"
      ]
     },
     "execution_count": 10,
     "metadata": {},
     "output_type": "execute_result"
    }
   ],
   "source": [
    "start_idx = df_2006.loc[df_2006[\"日付\"] == \"2006/8/1\"].index[0]\n",
    "end_idx = df_2006.loc[df_2006[\"日付\"] == \"2006/9/1\"].index[0]\n",
    "df_2006[start_idx:end_idx]['出現'].value_counts()"
   ]
  },
  {
   "cell_type": "code",
   "execution_count": 13,
   "id": "47fe746d",
   "metadata": {},
   "outputs": [
    {
     "data": {
      "text/plain": [
       "無    26\n",
       "有     5\n",
       "Name: 出現, dtype: int64"
      ]
     },
     "execution_count": 13,
     "metadata": {},
     "output_type": "execute_result"
    }
   ],
   "source": [
    "start_idx = df_2007.loc[df_2007[\"日付\"] == \"2007/8/1\"].index[0]\n",
    "end_idx = df_2007.loc[df_2007[\"日付\"] == \"2007/9/1\"].index[0]\n",
    "df_2007[start_idx:end_idx]['出現'].value_counts()"
   ]
  },
  {
   "cell_type": "code",
   "execution_count": 12,
   "id": "e75ce454",
   "metadata": {},
   "outputs": [
    {
     "data": {
      "text/plain": [
       "無    24\n",
       "有     7\n",
       "Name: 出現, dtype: int64"
      ]
     },
     "execution_count": 12,
     "metadata": {},
     "output_type": "execute_result"
    }
   ],
   "source": [
    "start_idx = df_2008.loc[df_2008[\"日付\"] == \"2008/8/1\"].index[0]\n",
    "end_idx = df_2008.loc[df_2008[\"日付\"] == \"2008/9/1\"].index[0]\n",
    "df_2008[start_idx:end_idx]['出現'].value_counts()"
   ]
  },
  {
   "cell_type": "code",
   "execution_count": 14,
   "id": "6f38ae96",
   "metadata": {},
   "outputs": [
    {
     "data": {
      "text/plain": [
       "無    20\n",
       "有    11\n",
       "Name: 出現, dtype: int64"
      ]
     },
     "execution_count": 14,
     "metadata": {},
     "output_type": "execute_result"
    }
   ],
   "source": [
    "start_idx = df_2009.loc[df_2009[\"日付\"] == \"2009/8/1\"].index[0]\n",
    "end_idx = df_2009.loc[df_2009[\"日付\"] == \"2009/9/1\"].index[0]\n",
    "df_2009[start_idx:end_idx]['出現'].value_counts()"
   ]
  },
  {
   "cell_type": "code",
   "execution_count": 15,
   "id": "729f2001",
   "metadata": {},
   "outputs": [
    {
     "data": {
      "text/plain": [
       "無       20\n",
       "有        7\n",
       "有（低）     3\n",
       "有（遠）     1\n",
       "Name: 出現, dtype: int64"
      ]
     },
     "execution_count": 15,
     "metadata": {},
     "output_type": "execute_result"
    }
   ],
   "source": [
    "start_idx = df_2010.loc[df_2010[\"日付\"] == \"2010/8/1\"].index[0]\n",
    "end_idx = df_2010.loc[df_2010[\"日付\"] == \"2010/9/1\"].index[0]\n",
    "df_2010[start_idx:end_idx]['出現'].value_counts()"
   ]
  },
  {
   "cell_type": "code",
   "execution_count": 16,
   "id": "cf9ad5d9",
   "metadata": {},
   "outputs": [
    {
     "data": {
      "text/plain": [
       "有    18\n",
       "無    13\n",
       "Name: 出現, dtype: int64"
      ]
     },
     "execution_count": 16,
     "metadata": {},
     "output_type": "execute_result"
    }
   ],
   "source": [
    "start_idx = df_2011.loc[df_2011[\"日付\"] == \"2011/8/1\"].index[0]\n",
    "end_idx = df_2011.loc[df_2011[\"日付\"] == \"2011/9/1\"].index[0]\n",
    "df_2011[start_idx:end_idx]['出現'].value_counts()"
   ]
  },
  {
   "cell_type": "code",
   "execution_count": 42,
   "id": "ff3615b8",
   "metadata": {},
   "outputs": [
    {
     "data": {
      "text/plain": [
       "適中なし    26\n",
       "適中      21\n",
       "見逃し     21\n",
       "空振り     14\n",
       "Name: 閾値40, dtype: int64"
      ]
     },
     "execution_count": 42,
     "metadata": {},
     "output_type": "execute_result"
    }
   ],
   "source": [
    "df_2021['閾値40'].value_counts()"
   ]
  },
  {
   "cell_type": "code",
   "execution_count": 24,
   "id": "88ae5639",
   "metadata": {},
   "outputs": [
    {
     "data": {
      "text/plain": [
       "適中なし    0.437500\n",
       "見逃し     0.194444\n",
       "適中      0.194444\n",
       "空振り     0.173611\n",
       "Name: 閾値40, dtype: float64"
      ]
     },
     "execution_count": 24,
     "metadata": {},
     "output_type": "execute_result"
    }
   ],
   "source": [
    "df_2015[\"閾値40\"].value_counts(normalize=True)"
   ]
  },
  {
   "cell_type": "code",
   "execution_count": null,
   "id": "4323ebb0",
   "metadata": {},
   "outputs": [],
   "source": []
  }
 ],
 "metadata": {
  "kernelspec": {
   "display_name": "Python 3",
   "language": "python",
   "name": "python3"
  },
  "language_info": {
   "codemirror_mode": {
    "name": "ipython",
    "version": 3
   },
   "file_extension": ".py",
   "mimetype": "text/x-python",
   "name": "python",
   "nbconvert_exporter": "python",
   "pygments_lexer": "ipython3",
   "version": "3.6.8"
  }
 },
 "nbformat": 4,
 "nbformat_minor": 5
}

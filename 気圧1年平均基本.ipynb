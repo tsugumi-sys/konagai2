{
 "cells": [
  {
   "cell_type": "code",
   "execution_count": 5,
   "id": "9e04fd75",
   "metadata": {},
   "outputs": [],
   "source": [
    "def draw_graph(xmesh,ymesh,topo_data):\n",
    "    import numpy as np\n",
    "    import matplotlib.pyplot as plt\n",
    "    import cartopy.crs as ccrs\n",
    "    fig = plt.figure( figsize = (5,2.5), dpi = 300 )\n",
    "    proj = ccrs.Mercator(central_longitude=140)\n",
    "    proj_cart = ccrs.PlateCarree()\n",
    "    ax = plt.axes((0.1,0.1,0.8,0.8), projection=proj)\n",
    "    ax.set_extent([120,160,25,50],crs=proj_cart)\n",
    "    ax.coastlines()\n",
    "    \n",
    "    C = ax.contourf(xmesh,ymesh,topo_data,cmap=\"RdYlBu\",transform=proj_cart)\n",
    "    fig.colorbar(C)\n",
    "    fig.savefig(\"2020年\")\n",
    "    plt.show()\n",
    "    return"
   ]
  },
  {
   "cell_type": "code",
   "execution_count": 7,
   "id": "ab9f8d14",
   "metadata": {},
   "outputs": [],
   "source": [
    "def inquire_grib_data(path):\n",
    "    import pygrib                  # gribファイルの中身を見たい場合はinquire_grib_data(path)を実行                \n",
    "    grbs = pygrib.open(path)\n",
    "    for grb in grbs:\n",
    "        print(grb)\n",
    "    return\n",
    "def read_grib_data(path,name=None,level=None):\n",
    "    import numpy as np\n",
    "    import pygrib                   # pygribは!pip3 install pygrib --userでインストール\n",
    "    grbs = pygrib.open(path)\n",
    "\n",
    "    if name != None:                # anl_surf125に対しては変数名を与える\n",
    "        alines = grbs.select(name=name)\n",
    "    elif level != None:             # anl_p125に対しては気圧面を与えるとその水平面データ\n",
    "        alines = grbs.select(level=level)\n",
    "    else:                           #                  気圧面を与えないと全３次元データ\n",
    "        alines = grbs.select()\n",
    "\n",
    "    lat, lon = alines[0].latlons()  # lonは経度、latは緯度データ: (ny,nx)の２次元格子です\n",
    "    ny, nx = lat.shape\n",
    "    nline = len(alines)\n",
    "    gdata = np.empty( (nline,ny,nx), dtype = \"f4\" )\n",
    "    levels = np.empty( (nline), dtype = \"f4\" )\n",
    "    for iline, aline in enumerate(alines):\n",
    "        gdata[iline,:,:] = aline.values[::-1,:]\n",
    "        levels[iline] = aline[\"level\"]\n",
    "\n",
    "    return lon, lat[::-1], level, gdata "
   ]
  },
  {
   "cell_type": "code",
   "execution_count": 10,
   "id": "8512913a",
   "metadata": {},
   "outputs": [
    {
     "ename": "TypeError",
     "evalue": "draw_graph() missing 1 required positional argument: 'topo_data'",
     "output_type": "error",
     "traceback": [
      "\u001b[0;31m---------------------------------------------------------------------------\u001b[0m",
      "\u001b[0;31mTypeError\u001b[0m                                 Traceback (most recent call last)",
      "\u001b[0;32m<ipython-input-10-e2232cbb19a6>\u001b[0m in \u001b[0;36m<module>\u001b[0;34m\u001b[0m\n\u001b[1;32m     24\u001b[0m \u001b[0;31m#print(Mean.shape)\u001b[0m\u001b[0;34m\u001b[0m\u001b[0;34m\u001b[0m\u001b[0;34m\u001b[0m\u001b[0m\n\u001b[1;32m     25\u001b[0m \u001b[0;31m#draw_graph(lon,lat,Mean)\u001b[0m\u001b[0;34m\u001b[0m\u001b[0;34m\u001b[0m\u001b[0;34m\u001b[0m\u001b[0m\n\u001b[0;32m---> 26\u001b[0;31m \u001b[0mdraw_graph\u001b[0m\u001b[0;34m(\u001b[0m\u001b[0mlon\u001b[0m\u001b[0;34m,\u001b[0m\u001b[0mlat\u001b[0m\u001b[0;34m)\u001b[0m\u001b[0;34m\u001b[0m\u001b[0;34m\u001b[0m\u001b[0m\n\u001b[0m",
      "\u001b[0;31mTypeError\u001b[0m: draw_graph() missing 1 required positional argument: 'topo_data'"
     ]
    }
   ],
   "source": [
    "import datetime as dt\n",
    "import calendar as cal\n",
    "import numpy as np\n",
    "#nmonth=cal.monthrange(2020,1)[1]\n",
    "#dts=[dt.datetime(2020,1,1,0)+dt.timedelta(hours=6*i) for i in range(nmonth*4)]\n",
    "\n",
    "\n",
    "dts=[]\n",
    "for m in range(12):\n",
    "    month=m+1\n",
    "    nmonth=cal.monthrange(2020,month)[1]\n",
    "    dts.extend([dt.datetime(2020,month,1,0)+dt.timedelta(hours=6*i) for i in range(nmonth*4)])  #一年分の平均\n",
    "\n",
    "slpm=np.zeros((len(dts),145,288)) #データの置き場所をつくる\n",
    "\n",
    "for i,dt in enumerate(dts):\n",
    "    fdir = \"/mnt/hwmet-hdd01/Database/JRA55/anl_p125/\"\n",
    "    fname = \"/anl_surf125.\"\n",
    "    path=dt.strftime(fdir+\"%Y%m\"+fname+\"%Y%m%d%H\")\n",
    "    lon,lat,_,SLP0=read_grib_data(path,name=\"Mean sea level pressure\")\n",
    "    slpm[i,:,:]=SLP0\n",
    "#print(slpm)\n",
    "#Mean=np.mean(slpm,axis=0)\n",
    "#print(Mean.shape)\n",
    "#draw_graph(lon,lat,Mean)\n",
    "draw_graph(lon,lat)"
   ]
  },
  {
   "cell_type": "code",
   "execution_count": null,
   "id": "cf741196",
   "metadata": {},
   "outputs": [],
   "source": []
  },
  {
   "cell_type": "code",
   "execution_count": null,
   "id": "aeeaad62",
   "metadata": {},
   "outputs": [],
   "source": []
  }
 ],
 "metadata": {
  "kernelspec": {
   "display_name": "Python 3",
   "language": "python",
   "name": "python3"
  },
  "language_info": {
   "codemirror_mode": {
    "name": "ipython",
    "version": 3
   },
   "file_extension": ".py",
   "mimetype": "text/x-python",
   "name": "python",
   "nbconvert_exporter": "python",
   "pygments_lexer": "ipython3",
   "version": "3.6.8"
  }
 },
 "nbformat": 4,
 "nbformat_minor": 5
}

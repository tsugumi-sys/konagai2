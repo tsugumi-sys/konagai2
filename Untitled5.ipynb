{
 "cells": [
  {
   "cell_type": "code",
   "execution_count": 2,
   "id": "e9a05c60",
   "metadata": {},
   "outputs": [
    {
     "name": "stdout",
     "output_type": "stream",
     "text": [
      "Collecting japanize_matplotlib\n",
      "  Downloading https://files.pythonhosted.org/packages/aa/85/08a4b7fe8987582d99d9bb7ad0ff1ec75439359a7f9690a0dbf2dbf98b15/japanize-matplotlib-1.1.3.tar.gz (4.1MB)\n",
      "\u001b[K    100% |████████████████████████████████| 4.1MB 401kB/s  eta 0:00:01\n",
      "\u001b[?25hRequirement already satisfied: matplotlib in /usr/local/lib64/python3.6/site-packages (from japanize_matplotlib)\n",
      "Requirement already satisfied: numpy>=1.15 in /usr/local/lib64/python3.6/site-packages (from matplotlib->japanize_matplotlib)\n",
      "Requirement already satisfied: pillow>=6.2.0 in /usr/local/lib64/python3.6/site-packages (from matplotlib->japanize_matplotlib)\n",
      "Requirement already satisfied: cycler>=0.10 in /usr/local/lib/python3.6/site-packages (from matplotlib->japanize_matplotlib)\n",
      "Requirement already satisfied: python-dateutil>=2.1 in /home/konagai/.local/lib/python3.6/site-packages (from matplotlib->japanize_matplotlib)\n",
      "Requirement already satisfied: kiwisolver>=1.0.1 in /usr/local/lib64/python3.6/site-packages (from matplotlib->japanize_matplotlib)\n",
      "Requirement already satisfied: pyparsing!=2.0.4,!=2.1.2,!=2.1.6,>=2.0.3 in /usr/lib/python3.6/site-packages (from matplotlib->japanize_matplotlib)\n",
      "Requirement already satisfied: six in /usr/lib/python3.6/site-packages (from cycler>=0.10->matplotlib->japanize_matplotlib)\n",
      "Installing collected packages: japanize-matplotlib\n",
      "  Running setup.py install for japanize-matplotlib ... \u001b[?25ldone\n",
      "\u001b[?25hSuccessfully installed japanize-matplotlib-1.1.3\n"
     ]
    }
   ],
   "source": [
    "!pip3 install japanize_matplotlib --user"
   ]
  },
  {
   "cell_type": "code",
   "execution_count": 4,
   "id": "0365dfb4",
   "metadata": {},
   "outputs": [
    {
     "name": "stdout",
     "output_type": "stream",
     "text": [
      "Collecting metpy\n",
      "  Downloading https://files.pythonhosted.org/packages/0b/6b/3391a378ba85a0a33d538df3653c3c4e3f2ce3bd60be41ef9e4e5512da84/MetPy-1.0.1-py3-none-any.whl (330kB)\n",
      "\u001b[K    100% |████████████████████████████████| 337kB 3.7MB/s eta 0:00:01\n",
      "\u001b[?25hRequirement already satisfied: matplotlib>=2.1.0 in /usr/local/lib64/python3.6/site-packages (from metpy)\n",
      "Requirement already satisfied: pyproj>=2.3.0 in /home/konagai/.local/lib/python3.6/site-packages (from metpy)\n",
      "Collecting pint>=0.10.1 (from metpy)\n",
      "  Downloading https://files.pythonhosted.org/packages/33/de/53a77b82553579affab7438d299f850acbc1c4dd741c5ce52594513cb0ef/Pint-0.17-py2.py3-none-any.whl (204kB)\n",
      "\u001b[K    100% |████████████████████████████████| 215kB 7.4MB/s eta 0:00:011\n",
      "\u001b[?25hRequirement already satisfied: scipy>=1.0 in /home/konagai/.local/lib/python3.6/site-packages (from metpy)\n",
      "Collecting importlib-resources>=1.3.0; python_version < \"3.9\" (from metpy)\n",
      "  Downloading https://files.pythonhosted.org/packages/24/1b/33e489669a94da3ef4562938cd306e8fa915e13939d7b8277cb5569cb405/importlib_resources-5.4.0-py3-none-any.whl\n",
      "Requirement already satisfied: traitlets>=4.3.0 in /home/konagai/.local/lib/python3.6/site-packages (from metpy)\n",
      "Requirement already satisfied: importlib-metadata>=1.0.0; python_version < \"3.8\" in /home/konagai/.local/lib/python3.6/site-packages (from metpy)\n",
      "Collecting pooch>=0.1 (from metpy)\n",
      "  Downloading https://files.pythonhosted.org/packages/8d/64/8e1bfeda3ba0f267b2d9a918e8ca51db8652d0e1a3412a5b3dbce85d90b6/pooch-1.6.0-py3-none-any.whl (56kB)\n",
      "\u001b[K    100% |████████████████████████████████| 61kB 16.3MB/s eta 0:00:01\n",
      "\u001b[?25hRequirement already satisfied: pandas>=0.22.0 in /home/konagai/.local/lib/python3.6/site-packages (from metpy)\n",
      "Collecting xarray>=0.14.1 (from metpy)\n",
      "  Downloading https://files.pythonhosted.org/packages/10/6f/9aa15b1f9001593d51a0e417a8ad2127ef384d08129a0720b3599133c1ed/xarray-0.16.2-py3-none-any.whl (736kB)\n",
      "\u001b[K    100% |████████████████████████████████| 737kB 2.3MB/s eta 0:00:011\n",
      "\u001b[?25hRequirement already satisfied: numpy>=1.16.0 in /usr/local/lib64/python3.6/site-packages (from metpy)\n",
      "Requirement already satisfied: cycler>=0.10 in /usr/local/lib/python3.6/site-packages (from matplotlib>=2.1.0->metpy)\n",
      "Requirement already satisfied: pyparsing!=2.0.4,!=2.1.2,!=2.1.6,>=2.0.3 in /usr/lib/python3.6/site-packages (from matplotlib>=2.1.0->metpy)\n",
      "Requirement already satisfied: pillow>=6.2.0 in /usr/local/lib64/python3.6/site-packages (from matplotlib>=2.1.0->metpy)\n",
      "Requirement already satisfied: python-dateutil>=2.1 in /home/konagai/.local/lib/python3.6/site-packages (from matplotlib>=2.1.0->metpy)\n",
      "Requirement already satisfied: kiwisolver>=1.0.1 in /usr/local/lib64/python3.6/site-packages (from matplotlib>=2.1.0->metpy)\n",
      "Requirement already satisfied: certifi in /usr/local/lib/python3.6/site-packages (from pyproj>=2.3.0->metpy)\n",
      "Requirement already satisfied: packaging in /home/konagai/.local/lib/python3.6/site-packages (from pint>=0.10.1->metpy)\n",
      "Requirement already satisfied: zipp>=3.1.0; python_version < \"3.10\" in /home/konagai/.local/lib/python3.6/site-packages (from importlib-resources>=1.3.0; python_version < \"3.9\"->metpy)\n",
      "Requirement already satisfied: ipython-genutils in /home/konagai/.local/lib/python3.6/site-packages (from traitlets>=4.3.0->metpy)\n",
      "Requirement already satisfied: six in /usr/lib/python3.6/site-packages (from traitlets>=4.3.0->metpy)\n",
      "Requirement already satisfied: decorator in /usr/lib/python3.6/site-packages (from traitlets>=4.3.0->metpy)\n",
      "Requirement already satisfied: typing-extensions>=3.6.4; python_version < \"3.8\" in /home/konagai/.local/lib/python3.6/site-packages (from importlib-metadata>=1.0.0; python_version < \"3.8\"->metpy)\n",
      "Collecting appdirs>=1.3.0 (from pooch>=0.1->metpy)\n",
      "  Downloading https://files.pythonhosted.org/packages/3b/00/2344469e2084fb287c2e0b57b72910309874c3245463acd6cf5e3db69324/appdirs-1.4.4-py2.py3-none-any.whl\n",
      "Requirement already satisfied: requests>=2.19.0 in /usr/local/lib/python3.6/site-packages (from pooch>=0.1->metpy)\n",
      "Requirement already satisfied: pytz>=2017.2 in /usr/local/lib/python3.6/site-packages (from pandas>=0.22.0->metpy)\n",
      "Requirement already satisfied: setuptools>=38.4 in /usr/lib/python3.6/site-packages (from xarray>=0.14.1->metpy)\n",
      "Requirement already satisfied: urllib3<1.27,>=1.21.1 in /usr/local/lib/python3.6/site-packages (from requests>=2.19.0->pooch>=0.1->metpy)\n",
      "Requirement already satisfied: chardet<5,>=3.0.2 in /usr/local/lib/python3.6/site-packages (from requests>=2.19.0->pooch>=0.1->metpy)\n",
      "Requirement already satisfied: idna<3,>=2.5 in /usr/lib/python3.6/site-packages (from requests>=2.19.0->pooch>=0.1->metpy)\n",
      "Installing collected packages: importlib-resources, pint, appdirs, pooch, xarray, metpy\n",
      "Successfully installed appdirs-1.4.4 importlib-resources-5.4.0 metpy-1.0.1 pint-0.17 pooch-1.6.0 xarray-0.16.2\n"
     ]
    }
   ],
   "source": [
    "!pip3 install metpy --user"
   ]
  },
  {
   "cell_type": "code",
   "execution_count": null,
   "id": "2c34d67a",
   "metadata": {},
   "outputs": [],
   "source": []
  }
 ],
 "metadata": {
  "kernelspec": {
   "display_name": "Python 3",
   "language": "python",
   "name": "python3"
  },
  "language_info": {
   "codemirror_mode": {
    "name": "ipython",
    "version": 3
   },
   "file_extension": ".py",
   "mimetype": "text/x-python",
   "name": "python",
   "nbconvert_exporter": "python",
   "pygments_lexer": "ipython3",
   "version": "3.6.8"
  }
 },
 "nbformat": 4,
 "nbformat_minor": 5
}

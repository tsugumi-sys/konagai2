{
 "cells": [
  {
   "cell_type": "code",
   "execution_count": null,
   "id": "e31a82f4",
   "metadata": {},
   "outputs": [],
   "source": [
    "import numpy as np\n",
    "import matplotlib.pyplot as plt\n",
    "import japanize_matplotlib\n",
    "import openpyxl\n",
    "import pandas as pd\n",
    "import matplotlib.dates as mdates\n",
    "import numpy as np\n",
    "import matplotlib.pyplot as plt\n",
    "import japanize_matplotlib\n",
    "import openpyxl\n",
    "import pandas as pd\n",
    "import matplotlib.dates as mdates\n",
    "\n",
    "fig = plt.figure(figsize=(50, 20))\n",
    "ax1 = fig.subplots()\n",
    "#ax2 = ax1.twinx()\n",
    "\n",
    "df_2012 = pd.read_csv(\"雲海2012.csv\")\n",
    "df = df_2012\n",
    "df.head()\n",
    "a = df['日付'].values\n",
    "b = df['霧日数'].values\n",
    "ax1.plot(a,b,color='r',label='1-0',marker=\"*\",linestyle=\"None\")\n",
    "ax1.set_ylim([0,31])\n",
    "ax1.set_ylabel(df['霧日数'].name)\n",
    "\n",
    "plt.grid(True)\n",
    "plt.gca().xaxis.set_major_locator(mdates.MonthLocator(interval=1))\n",
    "fig.autofmt_xdate(rotation=45)\n",
    "plt.savefig(\"fig1.png\")\n",
    "plt.show()"
   ]
  },
  {
   "cell_type": "code",
   "execution_count": 1,
   "id": "868ea6e7",
   "metadata": {},
   "outputs": [],
   "source": [
    "import pandas as pd\n",
    "df_2006 = pd.read_csv(\"雲海2006.csv\")\n",
    "df_2007 = pd.read_csv(\"雲海2007.csv\",header=1)\n",
    "df_2008 = pd.read_csv(\"雲海2008.csv\",header=1)\n",
    "df_2009 = pd.read_csv(\"雲海2009.csv\",header=1)\n",
    "df_2010 = pd.read_csv(\"雲海2010.csv\",header=1)\n",
    "df_2011 = pd.read_csv(\"雲海2011.csv\",header=1)\n",
    "df_2012 = pd.read_csv(\"2012.csv\",header=1)\n",
    "df_2013 = pd.read_csv(\"2013.csv\",header=1)\n",
    "df_2014 = pd.read_csv(\"2014.csv\",header=1)\n",
    "df_2015 = pd.read_csv(\"2015.csv\",header=1)\n",
    "df_2016 = pd.read_csv(\"2016.csv\",header=1)\n",
    "df_2017 = pd.read_csv(\"2017.csv\",header=1)\n",
    "df_2018 = pd.read_csv(\"2018.csv\",header=1)\n",
    "df_2019 = pd.read_csv(\"2019.csv\",header=1)\n",
    "df_2020 = pd.read_csv(\"2020.csv\",header=1)\n",
    "df_2021 = pd.read_csv(\"2021.csv\",header=1)"
   ]
  },
  {
   "cell_type": "code",
   "execution_count": 19,
   "id": "3e861767",
   "metadata": {},
   "outputs": [
    {
     "data": {
      "text/html": [
       "<div>\n",
       "<style scoped>\n",
       "    .dataframe tbody tr th:only-of-type {\n",
       "        vertical-align: middle;\n",
       "    }\n",
       "\n",
       "    .dataframe tbody tr th {\n",
       "        vertical-align: top;\n",
       "    }\n",
       "\n",
       "    .dataframe thead th {\n",
       "        text-align: right;\n",
       "    }\n",
       "</style>\n",
       "<table border=\"1\" class=\"dataframe\">\n",
       "  <thead>\n",
       "    <tr style=\"text-align: right;\">\n",
       "      <th></th>\n",
       "      <th>日付</th>\n",
       "      <th>出現</th>\n",
       "    </tr>\n",
       "  </thead>\n",
       "  <tbody>\n",
       "    <tr>\n",
       "      <th>0</th>\n",
       "      <td>2012/6/1</td>\n",
       "      <td>0.0</td>\n",
       "    </tr>\n",
       "    <tr>\n",
       "      <th>1</th>\n",
       "      <td>2012/6/2</td>\n",
       "      <td>1.0</td>\n",
       "    </tr>\n",
       "    <tr>\n",
       "      <th>2</th>\n",
       "      <td>2012/6/3</td>\n",
       "      <td>1.0</td>\n",
       "    </tr>\n",
       "    <tr>\n",
       "      <th>3</th>\n",
       "      <td>2012/6/4</td>\n",
       "      <td>1.0</td>\n",
       "    </tr>\n",
       "    <tr>\n",
       "      <th>4</th>\n",
       "      <td>2012/6/5</td>\n",
       "      <td>0.0</td>\n",
       "    </tr>\n",
       "    <tr>\n",
       "      <th>...</th>\n",
       "      <td>...</td>\n",
       "      <td>...</td>\n",
       "    </tr>\n",
       "    <tr>\n",
       "      <th>126</th>\n",
       "      <td>2012/10/5</td>\n",
       "      <td>1.0</td>\n",
       "    </tr>\n",
       "    <tr>\n",
       "      <th>127</th>\n",
       "      <td>2012/10/6</td>\n",
       "      <td>0.0</td>\n",
       "    </tr>\n",
       "    <tr>\n",
       "      <th>128</th>\n",
       "      <td>2012/10/7</td>\n",
       "      <td>1.0</td>\n",
       "    </tr>\n",
       "    <tr>\n",
       "      <th>129</th>\n",
       "      <td>2012/10/8</td>\n",
       "      <td>1.0</td>\n",
       "    </tr>\n",
       "    <tr>\n",
       "      <th>130</th>\n",
       "      <td>2012/10/9</td>\n",
       "      <td>1.0</td>\n",
       "    </tr>\n",
       "  </tbody>\n",
       "</table>\n",
       "<p>131 rows × 2 columns</p>\n",
       "</div>"
      ],
      "text/plain": [
       "            日付   出現\n",
       "0     2012/6/1  0.0\n",
       "1     2012/6/2  1.0\n",
       "2     2012/6/3  1.0\n",
       "3     2012/6/4  1.0\n",
       "4     2012/6/5  0.0\n",
       "..         ...  ...\n",
       "126  2012/10/5  1.0\n",
       "127  2012/10/6  0.0\n",
       "128  2012/10/7  1.0\n",
       "129  2012/10/8  1.0\n",
       "130  2012/10/9  1.0\n",
       "\n",
       "[131 rows x 2 columns]"
      ]
     },
     "execution_count": 19,
     "metadata": {},
     "output_type": "execute_result"
    }
   ],
   "source": [
    "df_2012[['日付','出現']]"
   ]
  },
  {
   "cell_type": "code",
   "execution_count": 75,
   "id": "ad64be87",
   "metadata": {},
   "outputs": [
    {
     "data": {
      "text/plain": [
       "0.0    68\n",
       "1.0    59\n",
       "Name: 出現, dtype: int64"
      ]
     },
     "execution_count": 75,
     "metadata": {},
     "output_type": "execute_result"
    }
   ],
   "source": [
    "#df_2012[df_2012['出現']==\"str(1)\"].value_counts()\n",
    "df_2012['出現'].value_counts()"
   ]
  },
  {
   "cell_type": "code",
   "execution_count": 2,
   "id": "04a74b5f",
   "metadata": {},
   "outputs": [
    {
     "data": {
      "text/plain": [
       "×    42\n",
       "○    23\n",
       "△    15\n",
       "Name: 出現, dtype: int64"
      ]
     },
     "execution_count": 2,
     "metadata": {},
     "output_type": "execute_result"
    }
   ],
   "source": [
    "df_2006['出現'].value_counts()"
   ]
  },
  {
   "cell_type": "code",
   "execution_count": 3,
   "id": "f71705e2",
   "metadata": {},
   "outputs": [
    {
     "data": {
      "text/plain": [
       "無    88\n",
       "有    36\n",
       "Name: 出現, dtype: int64"
      ]
     },
     "execution_count": 3,
     "metadata": {},
     "output_type": "execute_result"
    }
   ],
   "source": [
    "df_2007['出現'].value_counts()"
   ]
  },
  {
   "cell_type": "code",
   "execution_count": 4,
   "id": "89148e4c",
   "metadata": {},
   "outputs": [
    {
     "data": {
      "text/plain": [
       "無     49\n",
       "無し    22\n",
       "有り    21\n",
       "有     12\n",
       "Name: 出現, dtype: int64"
      ]
     },
     "execution_count": 4,
     "metadata": {},
     "output_type": "execute_result"
    }
   ],
   "source": [
    "df_2008['出現'].value_counts()"
   ]
  },
  {
   "cell_type": "code",
   "execution_count": 5,
   "id": "7513d9c4",
   "metadata": {},
   "outputs": [
    {
     "data": {
      "text/plain": [
       "有     36\n",
       "無     36\n",
       "なし    16\n",
       "無し     9\n",
       "有り     2\n",
       "Name: 出現, dtype: int64"
      ]
     },
     "execution_count": 5,
     "metadata": {},
     "output_type": "execute_result"
    }
   ],
   "source": [
    "df_2009['出現'].value_counts()"
   ]
  },
  {
   "cell_type": "code",
   "execution_count": 6,
   "id": "4133df58",
   "metadata": {},
   "outputs": [
    {
     "data": {
      "text/plain": [
       "無       93\n",
       "有       34\n",
       "有（低）     3\n",
       "有（遠）     1\n",
       "有？       1\n",
       "Name: 出現, dtype: int64"
      ]
     },
     "execution_count": 6,
     "metadata": {},
     "output_type": "execute_result"
    }
   ],
   "source": [
    "df_2010['出現'].value_counts()"
   ]
  },
  {
   "cell_type": "code",
   "execution_count": 7,
   "id": "7e8c6ee0",
   "metadata": {},
   "outputs": [
    {
     "data": {
      "text/plain": [
       "無    75\n",
       "有    56\n",
       "Name: 出現, dtype: int64"
      ]
     },
     "execution_count": 7,
     "metadata": {},
     "output_type": "execute_result"
    }
   ],
   "source": [
    "df_2011['出現'].value_counts()"
   ]
  },
  {
   "cell_type": "code",
   "execution_count": null,
   "id": "294808b1",
   "metadata": {},
   "outputs": [],
   "source": []
  },
  {
   "cell_type": "code",
   "execution_count": 76,
   "id": "f043c7ab",
   "metadata": {},
   "outputs": [
    {
     "data": {
      "text/plain": [
       "1.0    75\n",
       "0.0    66\n",
       "Name: 出現, dtype: int64"
      ]
     },
     "execution_count": 76,
     "metadata": {},
     "output_type": "execute_result"
    }
   ],
   "source": [
    "df_2013['出現'].value_counts()"
   ]
  },
  {
   "cell_type": "code",
   "execution_count": 77,
   "id": "6a78f9a9",
   "metadata": {},
   "outputs": [
    {
     "data": {
      "text/plain": [
       "0.0    77\n",
       "1.0    69\n",
       "Name: 出現, dtype: int64"
      ]
     },
     "execution_count": 77,
     "metadata": {},
     "output_type": "execute_result"
    }
   ],
   "source": [
    "df_2014['出現'].value_counts()"
   ]
  },
  {
   "cell_type": "code",
   "execution_count": 78,
   "id": "efa98dd2",
   "metadata": {},
   "outputs": [
    {
     "data": {
      "text/plain": [
       "0.0    88\n",
       "1.0    56\n",
       "Name: 出現, dtype: int64"
      ]
     },
     "execution_count": 78,
     "metadata": {},
     "output_type": "execute_result"
    }
   ],
   "source": [
    "df_2015['出現'].value_counts()"
   ]
  },
  {
   "cell_type": "code",
   "execution_count": 79,
   "id": "4ca2eb9d",
   "metadata": {},
   "outputs": [
    {
     "data": {
      "text/plain": [
       "0.0    90\n",
       "1.0    53\n",
       "Name: 出現, dtype: int64"
      ]
     },
     "execution_count": 79,
     "metadata": {},
     "output_type": "execute_result"
    }
   ],
   "source": [
    "df_2016['出現'].value_counts()"
   ]
  },
  {
   "cell_type": "code",
   "execution_count": 80,
   "id": "8bdd7e5c",
   "metadata": {},
   "outputs": [
    {
     "data": {
      "text/plain": [
       "0    98\n",
       "1    59\n",
       "Name: 出現, dtype: int64"
      ]
     },
     "execution_count": 80,
     "metadata": {},
     "output_type": "execute_result"
    }
   ],
   "source": [
    "df_2017['出現'].value_counts()"
   ]
  },
  {
   "cell_type": "code",
   "execution_count": 81,
   "id": "f2c18c08",
   "metadata": {},
   "outputs": [
    {
     "data": {
      "text/plain": [
       "0    106\n",
       "1     51\n",
       "Name: 出現, dtype: int64"
      ]
     },
     "execution_count": 81,
     "metadata": {},
     "output_type": "execute_result"
    }
   ],
   "source": [
    "df_2018['出現'].value_counts()"
   ]
  },
  {
   "cell_type": "code",
   "execution_count": 82,
   "id": "8448e84e",
   "metadata": {},
   "outputs": [
    {
     "data": {
      "text/plain": [
       "0    101\n",
       "1     56\n",
       "Name: 出現, dtype: int64"
      ]
     },
     "execution_count": 82,
     "metadata": {},
     "output_type": "execute_result"
    }
   ],
   "source": [
    "df_2019['出現'].value_counts()"
   ]
  },
  {
   "cell_type": "code",
   "execution_count": 83,
   "id": "840980d4",
   "metadata": {},
   "outputs": [
    {
     "data": {
      "text/plain": [
       "0    58\n",
       "1    48\n",
       "Name: 出現, dtype: int64"
      ]
     },
     "execution_count": 83,
     "metadata": {},
     "output_type": "execute_result"
    }
   ],
   "source": [
    "df_2020['出現'].value_counts()"
   ]
  },
  {
   "cell_type": "code",
   "execution_count": 84,
   "id": "04d3e799",
   "metadata": {},
   "outputs": [
    {
     "data": {
      "text/plain": [
       "1    42\n",
       "0    40\n",
       "Name: 出現, dtype: int64"
      ]
     },
     "execution_count": 84,
     "metadata": {},
     "output_type": "execute_result"
    }
   ],
   "source": [
    "df_2021['出現'].value_counts()"
   ]
  },
  {
   "cell_type": "code",
   "execution_count": 85,
   "id": "2a4d3a19",
   "metadata": {},
   "outputs": [
    {
     "data": {
      "text/plain": [
       "0.0    16\n",
       "1.0    14\n",
       "Name: 出現, dtype: int64"
      ]
     },
     "execution_count": 85,
     "metadata": {},
     "output_type": "execute_result"
    }
   ],
   "source": [
    "df_2012[2:32]['出現'].value_counts()"
   ]
  },
  {
   "cell_type": "code",
   "execution_count": 153,
   "id": "8e8ba2d8",
   "metadata": {},
   "outputs": [
    {
     "data": {
      "text/plain": [
       "0.0    16\n",
       "1.0    15\n",
       "Name: 出現, dtype: int64"
      ]
     },
     "execution_count": 153,
     "metadata": {},
     "output_type": "execute_result"
    }
   ],
   "source": [
    "start_idx = df_2012.loc[df_2012[\"日付\"] == \"2012/7/1\"].index[0]\n",
    "end_idx = df_2012.loc[df_2012[\"日付\"] == \"2012/8/1\"].index[0]\n",
    "df_2012[start_idx:end_idx]['出現'].value_counts()"
   ]
  },
  {
   "cell_type": "code",
   "execution_count": 151,
   "id": "1a47e99c",
   "metadata": {},
   "outputs": [
    {
     "data": {
      "text/plain": [
       "1.0    16\n",
       "0.0    15\n",
       "Name: 出現, dtype: int64"
      ]
     },
     "execution_count": 151,
     "metadata": {},
     "output_type": "execute_result"
    }
   ],
   "source": [
    "start_idx = df_2013.loc[df_2013[\"日付\"] == \"2013/7/1\"].index[0]\n",
    "end_idx = df_2013.loc[df_2013[\"日付\"] == \"2013/8/1\"].index[0]\n",
    "df_2013[start_idx:end_idx]['出現'].value_counts()"
   ]
  },
  {
   "cell_type": "code",
   "execution_count": null,
   "id": "6f166fb5",
   "metadata": {},
   "outputs": [],
   "source": [
    "start_idx = df_2014.loc[df_2014[\"日付\"] == \"2014/7/1\"].index[0]\n",
    "end_idx = df_2014.loc[df_2014[\"日付\"] == \"2014/8/1\"].index[0]\n",
    "df_2014[start_idx:end_idx]['出現'].value_counts()"
   ]
  },
  {
   "cell_type": "code",
   "execution_count": 152,
   "id": "2ccba29f",
   "metadata": {},
   "outputs": [
    {
     "data": {
      "text/plain": [
       "0.0    20\n",
       "1.0    10\n",
       "Name: 出現, dtype: int64"
      ]
     },
     "execution_count": 152,
     "metadata": {},
     "output_type": "execute_result"
    }
   ],
   "source": [
    "start_idx = df_2015.loc[df_2015[\"日付\"] == \"2015/6/1\"].index[0]\n",
    "end_idx = df_2015.loc[df_2015[\"日付\"] == \"2015/7/1\"].index[0]\n",
    "df_2015[start_idx:end_idx]['出現'].value_counts()"
   ]
  },
  {
   "cell_type": "code",
   "execution_count": 132,
   "id": "5caa2b9c",
   "metadata": {},
   "outputs": [
    {
     "data": {
      "text/plain": [
       "0    16\n",
       "1    14\n",
       "Name: 出現, dtype: int64"
      ]
     },
     "execution_count": 132,
     "metadata": {},
     "output_type": "execute_result"
    }
   ],
   "source": [
    "start_idx = df_2017.loc[df_2017[\"日付\"] == \"2017/9/1\"].index[0]\n",
    "end_idx = df_2017.loc[df_2017[\"日付\"] == \"2017/10/1\"].index[0]\n",
    "df_2017[start_idx:end_idx]['出現'].value_counts()"
   ]
  },
  {
   "cell_type": "code",
   "execution_count": 137,
   "id": "ca125425",
   "metadata": {},
   "outputs": [
    {
     "data": {
      "text/plain": [
       "0    19\n",
       "1    11\n",
       "Name: 出現, dtype: int64"
      ]
     },
     "execution_count": 137,
     "metadata": {},
     "output_type": "execute_result"
    }
   ],
   "source": [
    "start_idx = df_2018.loc[df_2018[\"日付\"] == \"2018/9/1\"].index[0]\n",
    "end_idx = df_2018.loc[df_2018[\"日付\"] == \"2018/10/1\"].index[0]\n",
    "df_2018[start_idx:end_idx]['出現'].value_counts()"
   ]
  },
  {
   "cell_type": "code",
   "execution_count": 141,
   "id": "c5c375ae",
   "metadata": {},
   "outputs": [
    {
     "data": {
      "text/plain": [
       "0    22\n",
       "1     8\n",
       "Name: 出現, dtype: int64"
      ]
     },
     "execution_count": 141,
     "metadata": {},
     "output_type": "execute_result"
    }
   ],
   "source": [
    "start_idx = df_2019.loc[df_2019[\"日付\"] == \"2019/9/1\"].index[0]\n",
    "end_idx = df_2019.loc[df_2019[\"日付\"] == \"2019/10/1\"].index[0]\n",
    "df_2019[start_idx:end_idx]['出現'].value_counts()"
   ]
  },
  {
   "cell_type": "code",
   "execution_count": 155,
   "id": "d0df9919",
   "metadata": {},
   "outputs": [
    {
     "data": {
      "text/plain": [
       "0    9\n",
       "1    4\n",
       "Name: 出現, dtype: int64"
      ]
     },
     "execution_count": 155,
     "metadata": {},
     "output_type": "execute_result"
    }
   ],
   "source": [
    "start_idx = df_2020.loc[df_2020[\"日付\"] == \"2020/10/1\"].index[0]\n",
    "end_idx = df_2020.loc[df_2020[\"日付\"] == \"2020/10/14\"].index[0]\n",
    "df_2020[start_idx:end_idx]['出現'].value_counts()"
   ]
  },
  {
   "cell_type": "code",
   "execution_count": 154,
   "id": "4cbbbf01",
   "metadata": {},
   "outputs": [
    {
     "data": {
      "text/plain": [
       "0    14\n",
       "1     7\n",
       "Name: 出現, dtype: int64"
      ]
     },
     "execution_count": 154,
     "metadata": {},
     "output_type": "execute_result"
    }
   ],
   "source": [
    "start_idx = df_2021.loc[df_2021[\"日付\"] == \"2021/5/11\"].index[0]\n",
    "end_idx = df_2021.loc[df_2021[\"日付\"] == \"2021/6/1\"].index[0]\n",
    "df_2021[start_idx:end_idx]['出現'].value_counts()"
   ]
  },
  {
   "cell_type": "code",
   "execution_count": 63,
   "id": "61caa47d",
   "metadata": {},
   "outputs": [
    {
     "data": {
      "text/plain": [
       "1.0    20\n",
       "0.0     9\n",
       "Name: 出現, dtype: int64"
      ]
     },
     "execution_count": 63,
     "metadata": {},
     "output_type": "execute_result"
    }
   ],
   "source": [
    "# index[0]はstart_idxで取り出すのは一行のみ。一個だけだから0番目のindex{0}.\n",
    "start_idx = df_2013.loc[df_2013[\"日付\"] == \"2013/6/4\"].index[0]\n",
    "end_idx = df_2013.loc[df_2013[\"日付\"] == \"2013/7/4\"].index[0]\n",
    "df_2013[start_idx:end_idx]['出現'].value_counts()"
   ]
  },
  {
   "cell_type": "code",
   "execution_count": 72,
   "id": "d3968304",
   "metadata": {},
   "outputs": [
    {
     "name": "stdout",
     "output_type": "stream",
     "text": [
      "[  0   1   2   3   4   5   6   7   8   9  10  11  12  13  14  15  16  17\n",
      "  18  19  20  21  22  23  24  25  26  27  28  29  30  31  32  33  34  35\n",
      "  36  37  38  39  40  41  42  43  44  45  46  47  48  49  50  51  52  53\n",
      "  54  55  56  57  58  59  60  61  62  63  64  65  66  67  68  69  70  71\n",
      "  72  73  74  75  76  77  78  79  80  81  82  83  84  85  86  87  88  89\n",
      "  90  91  92  93  94  95  96  97  98  99 100 101 102 103 104 105 106 107\n",
      " 108 109 110 111 112 113 114 115 116 117 118 119 120 121 122 123 124 125\n",
      " 126 127 128 129 130 131 132 133 134 135 136 137 138 139 140 141 142 143\n",
      " 144 145 146 147 148 149 150 151 152 153 154 155 156]\n"
     ]
    }
   ],
   "source": []
  },
  {
   "cell_type": "code",
   "execution_count": 46,
   "id": "d0688e16",
   "metadata": {},
   "outputs": [
    {
     "data": {
      "text/plain": [
       "Index(['日付', '出現', '確率', '閾値40', '閾値50', '閾値60'], dtype='object')"
      ]
     },
     "execution_count": 46,
     "metadata": {},
     "output_type": "execute_result"
    }
   ],
   "source": [
    "df_2012.columns"
   ]
  },
  {
   "cell_type": "code",
   "execution_count": 47,
   "id": "42fee41e",
   "metadata": {},
   "outputs": [
    {
     "data": {
      "text/plain": [
       "6"
      ]
     },
     "execution_count": 47,
     "metadata": {},
     "output_type": "execute_result"
    }
   ],
   "source": [
    "len(df_2012.columns)"
   ]
  },
  {
   "cell_type": "code",
   "execution_count": null,
   "id": "6c859552",
   "metadata": {},
   "outputs": [],
   "source": []
  }
 ],
 "metadata": {
  "kernelspec": {
   "display_name": "Python 3",
   "language": "python",
   "name": "python3"
  },
  "language_info": {
   "codemirror_mode": {
    "name": "ipython",
    "version": 3
   },
   "file_extension": ".py",
   "mimetype": "text/x-python",
   "name": "python",
   "nbconvert_exporter": "python",
   "pygments_lexer": "ipython3",
   "version": "3.6.8"
  }
 },
 "nbformat": 4,
 "nbformat_minor": 5
}

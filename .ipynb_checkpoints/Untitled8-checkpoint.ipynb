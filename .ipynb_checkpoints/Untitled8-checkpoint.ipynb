{
 "cells": [
  {
   "cell_type": "code",
   "execution_count": 12,
   "id": "748bb454",
   "metadata": {},
   "outputs": [],
   "source": [
    "def draw_graph(xmesh,ymesh,topo_data):\n",
    "    import numpy as np\n",
    "    import matplotlib.pyplot as plt\n",
    "    import cartopy.crs as ccrs\n",
    "    fig = plt.figure( figsize = (5,2.5), dpi = 300 )\n",
    "    proj = ccrs.Mercator(central_longitude=140)\n",
    "    proj_cart = ccrs.PlateCarree()\n",
    "    ax = plt.axes((0.1,0.1,0.8,0.8), projection=proj)\n",
    "    ax.set_extent([120,160,25,50],crs=proj_cart)\n",
    "    #ax.set_extent([-179.99,180,-80,80],crs=proj_cart)\n",
    "    ax.coastlines()\n",
    "    \n",
    "    C = ax.contourf(xmesh,ymesh,topo_data,cmap=\"RdYlBu\",transform=proj_cart)\n",
    "    fig.colorbar(C)\n",
    "    #fig.savefig(\"全球\")\n",
    "    plt.show()\n",
    "    return"
   ]
  },
  {
   "cell_type": "code",
   "execution_count": 8,
   "id": "cae1f358",
   "metadata": {},
   "outputs": [],
   "source": [
    "def inquire_grib_data(path):\n",
    "    import pygrib                  # gribファイルの中身を見たい場合はinquire_grib_data(path)を実行                \n",
    "    grbs = pygrib.open(path)\n",
    "    for grb in grbs:\n",
    "        print(grb)\n",
    "    return\n",
    "def read_grib_data(path,name=None,level=None):\n",
    "    import numpy as np\n",
    "    import pygrib                   # pygribは!pip3 install pygrib --userでインストール\n",
    "    grbs = pygrib.open(path)\n",
    "\n",
    "    if name != None:                # anl_surf125に対しては変数名を与える\n",
    "        alines = grbs.select(name=name)\n",
    "    elif level != None:             # anl_p125に対しては気圧面を与えるとその水平面データ\n",
    "        alines = grbs.select(level=level)\n",
    "    else:                           #                  気圧面を与えないと全３次元データ\n",
    "        alines = grbs.select()\n",
    "\n",
    "    lat, lon = alines[0].latlons()  # lonは経度、latは緯度データ: (ny,nx)の２次元格子です\n",
    "    ny, nx = lat.shape\n",
    "    nline = len(alines)\n",
    "    gdata = np.empty( (nline,ny,nx), dtype = \"f4\" )\n",
    "    levels = np.empty( (nline), dtype = \"f4\" )\n",
    "    for iline, aline in enumerate(alines):\n",
    "        gdata[iline,:,:] = aline.values[::-1,:]\n",
    "        levels[iline] = aline[\"level\"]\n",
    "\n",
    "    return lon, lat[::-1], level, gdata "
   ]
  },
  {
   "cell_type": "code",
   "execution_count": 9,
   "id": "ab5cc542",
   "metadata": {},
   "outputs": [
    {
     "name": "stdout",
     "output_type": "stream",
     "text": [
      "1:Surface pressure:Pa (instant):regular_ll:surface:level 0:fcst time 0 hrs:from 199009100000\n",
      "2:Mean sea level pressure:Pa (instant):regular_ll:meanSea:level 0:fcst time 0 hrs:from 199009100000\n",
      "3:2 metre temperature:K (instant):regular_ll:heightAboveGround:level 2:fcst time 0 hrs:from 199009100000\n",
      "4:Potential temperature:K (instant):regular_ll:surface:level 0:fcst time 0 hrs:from 199009100000\n",
      "5:Dew point depression (or deficit):K (instant):regular_ll:heightAboveGround:level 2:fcst time 0 hrs:from 199009100000\n",
      "6:2 metre specific humidity:kg kg**-1 (instant):regular_ll:heightAboveGround:level 2:fcst time 0 hrs:from 199009100000\n",
      "7:2 metre relative humidity:% (instant):regular_ll:heightAboveGround:level 2:fcst time 0 hrs:from 199009100000\n",
      "8:10 metre U wind component:m s**-1 (instant):regular_ll:heightAboveGround:level 10:fcst time 0 hrs:from 199009100000\n",
      "9:10 metre V wind component:m s**-1 (instant):regular_ll:heightAboveGround:level 10:fcst time 0 hrs:from 199009100000\n"
     ]
    }
   ],
   "source": [
    "inquire_grib_data(\"/mnt/hwmet-hdd01/Database/JRA55/anl_p125/199009/anl_surf125.1990091000\")"
   ]
  },
  {
   "cell_type": "code",
   "execution_count": 10,
   "id": "c000b2aa",
   "metadata": {},
   "outputs": [],
   "source": [
    "C = read_grib_data(\"/mnt/hwmet-hdd01/Database/JRA55/anl_p125/199009/anl_surf125.1990091000\",name=\"10 metre U wind component\")"
   ]
  },
  {
   "cell_type": "code",
   "execution_count": 13,
   "id": "8406756d",
   "metadata": {},
   "outputs": [
    {
     "ename": "NameError",
     "evalue": "name 'lon' is not defined",
     "output_type": "error",
     "traceback": [
      "\u001b[0;31m---------------------------------------------------------------------------\u001b[0m",
      "\u001b[0;31mNameError\u001b[0m                                 Traceback (most recent call last)",
      "\u001b[0;32m<ipython-input-13-2dcc3cfe8bbc>\u001b[0m in \u001b[0;36m<module>\u001b[0;34m\u001b[0m\n\u001b[1;32m     12\u001b[0m     \u001b[0mplt\u001b[0m\u001b[0;34m.\u001b[0m\u001b[0mshow\u001b[0m\u001b[0;34m(\u001b[0m\u001b[0;34m)\u001b[0m\u001b[0;34m\u001b[0m\u001b[0;34m\u001b[0m\u001b[0m\n\u001b[1;32m     13\u001b[0m     \u001b[0;32mreturn\u001b[0m\u001b[0;34m\u001b[0m\u001b[0;34m\u001b[0m\u001b[0m\n\u001b[0;32m---> 14\u001b[0;31m \u001b[0mdraw_graph\u001b[0m\u001b[0;34m(\u001b[0m\u001b[0mlon\u001b[0m\u001b[0;34m,\u001b[0m\u001b[0mlat\u001b[0m\u001b[0;34m,\u001b[0m\u001b[0mSLP\u001b[0m\u001b[0;34m[\u001b[0m\u001b[0;36m0\u001b[0m\u001b[0;34m]\u001b[0m\u001b[0;34m)\u001b[0m\u001b[0;34m\u001b[0m\u001b[0;34m\u001b[0m\u001b[0m\n\u001b[0m",
      "\u001b[0;31mNameError\u001b[0m: name 'lon' is not defined"
     ]
    }
   ],
   "source": [
    "def draw_graph(xmesh,ymesh,topo_data):\n",
    "\n",
    "    import numpy as np\n",
    "    import matplotlib.pyplot as plt\n",
    "    fig = plt.figure( figsize = (5,2.5), dpi = 300 )\n",
    "    ax = plt.axes((0.1,0.1,0.8,0.8))\n",
    "    C = ax.contourf(xmesh,ymesh,topo_data,cmap=\"RdYlBu\")\n",
    "    ax.set_xlim([100, 180])\n",
    "    ax.set_ylim([20, 60])\n",
    "    fig.colorbar(C)\n",
    "    fig.savefig(\"topo.png\")\n",
    "    plt.show()\n",
    "    return\n",
    "draw_graph(lon,lat,SLP[0])"
   ]
  },
  {
   "cell_type": "code",
   "execution_count": 14,
   "id": "ad44f8ba",
   "metadata": {},
   "outputs": [],
   "source": [
    "import datetime as dt\n",
    "import calendar as cal\n",
    "import numpy as np\n",
    "import matplotlib.pyplot as plt\n",
    "import cartopy.crs as ccrs\n",
    "nmonth=cal.monthrange(2020,1)[1]\n",
    "dts=[dt.datetime(2020,1,1,0)+dt.timedelta(hours=6*i) for i in range(nmonth*4)]"
   ]
  },
  {
   "cell_type": "code",
   "execution_count": null,
   "id": "041bb2d9",
   "metadata": {},
   "outputs": [],
   "source": [
    "###  矢印を書くのは千鳥格子(正方形の頂点および対角線の交点からなる模様)のような方が矢印が干渉しずらくてよいので\n",
    "###　この関数ではそれを定義します。\n",
    "def stagger(m,n):\n",
    "    import numpy as np\n",
    "    px, py = [], []\n",
    "    for kax in [0,0.05]:\n",
    "        for jax in np.arange(1/float(2*n)+kax,1,1/float(n)):\n",
    "            for iax in np.arange(1/float(2*m)+kax,1,1/float(m)):\n",
    "                px.append(iax)\n",
    "                py.append(jax)\n",
    "    return px, py\n",
    "\n",
    "### 指定された格子上の点にベクトルをプロットします。\n",
    "def plot_vectors(ax,proj,proj_cart,    # cartopyを使って定義したもの(synoptic_chart参照)\n",
    "                px,py,                # figure座標におけるベクトルを書く場所\n",
    "                x,y,u,v,              # 緯度経度座標で定義された(x,y)と(u,v)\n",
    "                factor,               # figure座標でよい塩梅になるように長さを調整する\n",
    "                ulimit):              # ベクトルを書く長さの下限(これ以下の風速はmask out)\n",
    "    import numpy as np\n",
    "    import math\n",
    "    for iax, jax in zip(px,py):\n",
    "        p_a = (iax,jax)               # 与えられたfigure座標におけるplot位置\n",
    "        lon, lat = transform_figure_to_lonlat(p_a,ax,proj,proj_cart,False)[0]\n",
    "                                      # figure座標の位置を緯度経度に変換\n",
    "        ix = np.argmin(np.abs(x-lon%360))  # その緯度経度に近いデータ点を探索\n",
    "        iy = np.argmin(np.abs(y-lat))      # データ点座標indexを(ix,iy)とする\n",
    "        q_a = transform_lonlat_to_figure((x[ix],y[iy]),ax,proj,proj_cart,False)[0]\n",
    "                                      # 緯度経度(x[ix],y[iy])点をfigure座標に変換(ほぼp_aと同じはず)\n",
    "        R1 = transform_figure_to_lonlat((q_a[0]-0.01,q_a[1]),ax,proj,proj_cart,False)[0]\n",
    "        R2 = transform_figure_to_lonlat((q_a[0]+0.01,q_a[1]),ax,proj,proj_cart,False)[0]\n",
    "                                      # figure座標点は東西南北の方向が左右上下とは異なるので\n",
    "                                      # figure座標位置の東西方向が緯度経度座標の東西方向から\n",
    "                                      # どのくらいずれているかを確認\n",
    "        angle = math.atan2(R2[1]-R1[1],R2[0]%360-R1[0]%360)  # 上記を角度に変換\n",
    "\n",
    "        U = u[iy,ix] / 2 * factor\n",
    "        V = v[iy,ix] / 2 * factor\n",
    "        uabs = np.sqrt(u[iy,ix]*u[iy,ix]+v[iy,ix]*v[iy,ix])  # 風速の計算\n",
    "\n",
    "        if uabs >= ulimit:\n",
    "            U, V = U * np.cos(angle) + V * np.sin(angle), -U * np.sin(angle) + V *np.cos(angle) \n",
    "                                         # U, Vを上記で計算したangleで回転変換(U,V=をばらして2行で書いてはいけない)\n",
    "            x1, y1 = q_a[0] - U, q_a[1] - V \n",
    "            x2, y2 = q_a[0] + U, q_a[1] + V                    \n",
    "            ax.annotate(\"\",xy=(x2,y2),   # ベクトルの終点\n",
    "                        xytext=(x1,y1),  # ベクトルの始点(annotateは矢印を積極的に書く目的ではないので、こんな仕様に)\n",
    "                        xycoords=\"axes fraction\", # figure座標で書くの意味\n",
    "                        arrowprops=dict(arrowstyle=\"->\", lw=0.5, color=\"k\",\n",
    "\t\t\t\t\t\tshrinkA=0,shrinkB=0))  # これがないと始点・終点が2ptだけ短くなる       \n",
    "    return\n",
    "\n",
    "def plot_unit_vector(ax,proj,proj_cart,\n",
    "                     px,py,              #参照ベクトルの位置(figure座標)\n",
    "                     u,v,factor,         #参照ベクトルの大きさ\n",
    "                     px_text,py_text,    #参照ベクトルに添える注意書きの場所(figure座標, py_textは負値許容)\n",
    "                     title):             #参照ベクトルに添える注意書き\n",
    "    u = u/2*factor\n",
    "    v = v/2*factor\n",
    "    x1, y1 = px - u, py - v \n",
    "    x2, y2 = px + u, py + v    \n",
    "    ax.annotate(\"\",xy=(x2,y2),xytext=(x1,y1),xycoords=\"axes fraction\",\n",
    "                 arrowprops=dict(arrowstyle=\"->\", lw=0.5, color=\"k\",shrinkA=0,shrinkB=0))    \n",
    "    ax.text( px_text, py_text, title, transform=ax.transAxes, ha = \"center\", va = \"center\" )    \n",
    "\n",
    "    return\n",
    "\n",
    "def plot_vector_example():\n",
    "    import numpy as np\n",
    "    import matplotlib.pyplot as plt   \n",
    "    \n",
    "    # 東西風と南北風を読み込む\n",
    "    nx, ny, nz = 288, 145, 37\n",
    "    x = np.linspace(0,360,nx,endpoint=False)\n",
    "    y = np.linspace(-90,90,ny,endpoint=True)\n",
    "    u = np.memmap(\"/mnt/hwmet-hdd01/Database/JRA55/anl_p125/199009/anl_surf125.1990091000\",name=\"10 metre U wind component\", dtype = \"f4\", mode = \"r\", shape = (nz,ny,nx) )[6] \n",
    "    v = np.memmap(\"/mnt/hwmet-hdd01/Database/JRA55/anl_p125/199009/anl_surf125.1990091000\",name=\"10 metre V wind component\", dtype = \"f4\", mode = \"r\", shape = (nz,ny,nx) )[6]\n",
    "    \n",
    "    fig = plt.figure(figsize=(110/25.4,81.8/25.4),dpi=300)  # figsizeはinch指定なのでmm/25.4する\n",
    "    ax, proj, proj_cart = draw_synoptic_chart((0,0.05,1,1))\n",
    "    factor, ulimit = 0.01, 3\n",
    "    plot_vectors(ax,proj,proj_cart,*stagger(12,8),  # 縦横比1240:876にあわせた千鳥格子でベクトルプロット\n",
    "                 x,y,u,v,factor,ulimit)\n",
    "    plot_unit_vector(ax,proj,proj_cart,0.9,-0.05,10,0, #図下に西風10 m/s参照ベクトルをプロット\n",
    "                     factor,0.8,-0.05,\"10 m/s\")\n",
    "\n",
    "    fig.savefig(\"vector_plot.png\",bbox_inches=\"tight\",pad_inches=0.1)\n",
    "\n",
    "    return\n",
    "plot_vector_example()"
   ]
  },
  {
   "cell_type": "code",
   "execution_count": null,
   "id": "148b8855",
   "metadata": {},
   "outputs": [],
   "source": [
    "inquire_grib_data(\"/mnt/hwmet-hdd01/Database/JRA55/anl_p125/199009/anl_surf125.1990091000\")"
   ]
  }
 ],
 "metadata": {
  "kernelspec": {
   "display_name": "Python 3",
   "language": "python",
   "name": "python3"
  },
  "language_info": {
   "codemirror_mode": {
    "name": "ipython",
    "version": 3
   },
   "file_extension": ".py",
   "mimetype": "text/x-python",
   "name": "python",
   "nbconvert_exporter": "python",
   "pygments_lexer": "ipython3",
   "version": "3.6.8"
  }
 },
 "nbformat": 4,
 "nbformat_minor": 5
}

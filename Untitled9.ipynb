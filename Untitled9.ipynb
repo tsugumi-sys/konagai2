{
 "cells": [
  {
   "cell_type": "code",
   "execution_count": 9,
   "id": "760eb7f7",
   "metadata": {},
   "outputs": [],
   "source": [
    "def inquire_grib_data(path):\n",
    "    import pygrib                  # gribファイルの中身を見たい場合はinquire_grib_data(path)を実行                \n",
    "    grbs = pygrib.open(path)\n",
    "    for grb in grbs:\n",
    "        print(grb)\n",
    "    return\n",
    "def read_grib_data(path,name=None,level=None):\n",
    "    import numpy as np\n",
    "    import pygrib                   # pygribは!pip3 install pygrib --userでインストール\n",
    "    grbs = pygrib.open(path)\n",
    "\n",
    "    if name != None:                # anl_surf125に対しては変数名を与える\n",
    "        alines = grbs.select(name=name)\n",
    "    elif level != None:             # anl_p125に対しては気圧面を与えるとその水平面データ\n",
    "        alines = grbs.select(level=level)\n",
    "    else:                           #                  気圧面を与えないと全３次元データ\n",
    "        alines = grbs.select()\n",
    "\n",
    "    lat, lon = alines[0].latlons()  # lonは経度、latは緯度データ: (ny,nx)の２次元格子です\n",
    "    ny, nx = lat.shape\n",
    "    nline = len(alines)\n",
    "    gdata = np.empty( (nline,ny,nx), dtype = \"f4\" )\n",
    "    levels = np.empty( (nline), dtype = \"f4\" )\n",
    "    for iline, aline in enumerate(alines):\n",
    "        gdata[iline,:,:] = aline.values[::-1,:]\n",
    "        levels[iline] = aline[\"level\"]\n",
    "\n",
    "    return lon, lat[::-1], level, gdata \n",
    "# inquire_grib_data(\"anl_surf125.2020010100\") # これを実行すると、この下のnameに何を与えるかがわかります\n",
    "# lon, lat, _, SLP = read_grib_data(\"anl_surf125.2020010100\",name=\"Mean sea level pressure\")\n",
    "# T850 = read_grib_data(\"anl_p125_tmp.2020010100\",level=850)[3]"
   ]
  },
  {
   "cell_type": "code",
   "execution_count": 10,
   "id": "4db818ac",
   "metadata": {},
   "outputs": [
    {
     "name": "stdout",
     "output_type": "stream",
     "text": [
      "1:Surface pressure:Pa (instant):regular_ll:surface:level 0:fcst time 0 hrs:from 201209100000\n",
      "2:Mean sea level pressure:Pa (instant):regular_ll:meanSea:level 0:fcst time 0 hrs:from 201209100000\n",
      "3:2 metre temperature:K (instant):regular_ll:heightAboveGround:level 2:fcst time 0 hrs:from 201209100000\n",
      "4:Potential temperature:K (instant):regular_ll:surface:level 0:fcst time 0 hrs:from 201209100000\n",
      "5:Dew point depression (or deficit):K (instant):regular_ll:heightAboveGround:level 2:fcst time 0 hrs:from 201209100000\n",
      "6:2 metre specific humidity:kg kg**-1 (instant):regular_ll:heightAboveGround:level 2:fcst time 0 hrs:from 201209100000\n",
      "7:2 metre relative humidity:% (instant):regular_ll:heightAboveGround:level 2:fcst time 0 hrs:from 201209100000\n",
      "8:10 metre U wind component:m s**-1 (instant):regular_ll:heightAboveGround:level 10:fcst time 0 hrs:from 201209100000\n",
      "9:10 metre V wind component:m s**-1 (instant):regular_ll:heightAboveGround:level 10:fcst time 0 hrs:from 201209100000\n"
     ]
    }
   ],
   "source": [
    "inquire_grib_data(\"/mnt/hwmet-hdd01/Database/JRA55/anl_p125/201209/anl_surf125.2012091000\")"
   ]
  },
  {
   "cell_type": "code",
   "execution_count": 11,
   "id": "d43d5018",
   "metadata": {},
   "outputs": [
    {
     "name": "stdout",
     "output_type": "stream",
     "text": [
      "(array([[  0.  ,   1.25,   2.5 , ..., 356.25, 357.5 , 358.75],\n",
      "       [  0.  ,   1.25,   2.5 , ..., 356.25, 357.5 , 358.75],\n",
      "       [  0.  ,   1.25,   2.5 , ..., 356.25, 357.5 , 358.75],\n",
      "       ...,\n",
      "       [  0.  ,   1.25,   2.5 , ..., 356.25, 357.5 , 358.75],\n",
      "       [  0.  ,   1.25,   2.5 , ..., 356.25, 357.5 , 358.75],\n",
      "       [  0.  ,   1.25,   2.5 , ..., 356.25, 357.5 , 358.75]]), array([[-90.  , -90.  , -90.  , ..., -90.  , -90.  , -90.  ],\n",
      "       [-88.75, -88.75, -88.75, ..., -88.75, -88.75, -88.75],\n",
      "       [-87.5 , -87.5 , -87.5 , ..., -87.5 , -87.5 , -87.5 ],\n",
      "       ...,\n",
      "       [ 87.5 ,  87.5 ,  87.5 , ...,  87.5 ,  87.5 ,  87.5 ],\n",
      "       [ 88.75,  88.75,  88.75, ...,  88.75,  88.75,  88.75],\n",
      "       [ 90.  ,  90.  ,  90.  , ...,  90.  ,  90.  ,  90.  ]]), None, array([[[102578.3 , 102578.3 , 102578.3 , ..., 102578.3 , 102578.3 ,\n",
      "         102578.3 ],\n",
      "        [102368.92, 102368.92, 102418.92, ..., 102284.55, 102318.92,\n",
      "         102368.92],\n",
      "        [102034.55, 102043.92, 102197.05, ..., 101862.67, 101878.3 ,\n",
      "         102028.3 ],\n",
      "        ...,\n",
      "        [101143.92, 101147.05, 101162.67, ..., 101125.17, 101125.17,\n",
      "         101143.92],\n",
      "        [101262.67, 101262.67, 101265.8 , ..., 101256.42, 101256.42,\n",
      "         101262.67],\n",
      "        [101262.67, 101262.67, 101262.67, ..., 101262.67, 101262.67,\n",
      "         101262.67]]], dtype=float32))\n"
     ]
    }
   ],
   "source": [
    "C = read_grib_data(\"/mnt/hwmet-hdd01/Database/JRA55/anl_p125/201909/anl_surf125.2019091000\",name=\"Mean sea level pressure\")\n",
    "print(C)"
   ]
  },
  {
   "cell_type": "code",
   "execution_count": 12,
   "id": "b30fba35",
   "metadata": {},
   "outputs": [
    {
     "ename": "NameError",
     "evalue": "name 'lon' is not defined",
     "output_type": "error",
     "traceback": [
      "\u001b[0;31m---------------------------------------------------------------------------\u001b[0m",
      "\u001b[0;31mNameError\u001b[0m                                 Traceback (most recent call last)",
      "\u001b[0;32m<ipython-input-12-d0703cc3b935>\u001b[0m in \u001b[0;36m<module>\u001b[0;34m\u001b[0m\n\u001b[1;32m     15\u001b[0m     \u001b[0mplt\u001b[0m\u001b[0;34m.\u001b[0m\u001b[0mshow\u001b[0m\u001b[0;34m(\u001b[0m\u001b[0;34m)\u001b[0m\u001b[0;34m\u001b[0m\u001b[0;34m\u001b[0m\u001b[0m\n\u001b[1;32m     16\u001b[0m     \u001b[0;32mreturn\u001b[0m\u001b[0;34m\u001b[0m\u001b[0;34m\u001b[0m\u001b[0m\n\u001b[0;32m---> 17\u001b[0;31m \u001b[0mdraw_graph\u001b[0m\u001b[0;34m(\u001b[0m\u001b[0mlon\u001b[0m\u001b[0;34m,\u001b[0m\u001b[0mlat\u001b[0m\u001b[0;34m,\u001b[0m\u001b[0mSLP\u001b[0m\u001b[0;34m[\u001b[0m\u001b[0;36m0\u001b[0m\u001b[0;34m]\u001b[0m\u001b[0;34m)\u001b[0m\u001b[0;34m\u001b[0m\u001b[0;34m\u001b[0m\u001b[0m\n\u001b[0m",
      "\u001b[0;31mNameError\u001b[0m: name 'lon' is not defined"
     ]
    }
   ],
   "source": [
    "def draw_graph(xmesh,ymesh,topo_data):\n",
    "    import numpy as np\n",
    "    import matplotlib.pyplot as plt\n",
    "    import cartopy.crs as ccrs\n",
    "    fig = plt.figure( figsize = (5,2.5), dpi = 300 )\n",
    "    proj = ccrs.Mercator(central_longitude=140)\n",
    "    proj_cart = ccrs.PlateCarree()\n",
    "    ax = plt.axes((0.1,0.1,0.8,0.8), projection=proj)\n",
    "    ax.set_extent([120,160,25,50],crs=proj_cart)\n",
    "    ax.coastlines()\n",
    "    \n",
    "    C = ax.contourf(xmesh,ymesh,topo_data,cmap=\"RdYlBu\",transform=proj_cart)\n",
    "    fig.colorbar(C)\n",
    "    fig.savefig(\"topo.png\")\n",
    "    plt.show()\n",
    "    return\n",
    "draw_graph(lon,lat,SLP[0]) "
   ]
  },
  {
   "cell_type": "code",
   "execution_count": 13,
   "id": "9b0c8ac1",
   "metadata": {},
   "outputs": [],
   "source": [
    "def draw_graph(xmesh,ymesh,topo_data):\n",
    "    import numpy as np\n",
    "    import matplotlib.pyplot as plt\n",
    "    import cartopy.crs as ccrs\n",
    "\n",
    "    fig = plt.figure( figsize = (5,2.5), dpi = 300 )\n",
    "    proj = ccrs.Mercator(central_longitude=140)\n",
    "    proj_cart = ccrs.PlateCarree()\n",
    "    ax = plt.axes((0.1,0.1,0.8,0.8), projection=proj)\n",
    "    ax.set_extent([120,160,25,50],crs=proj_cart)\n",
    "    ax.coastlines()\n",
    "    fig.savefig(\"等高線\")\n",
    "\n",
    "    C = ax.contourf(xmesh,ymesh,topo_data,cmap=\"RdYlBu\",transform=proj_cart, alpha=0.5)\n",
    "    fig.colorbar(C)\n",
    "    return ax"
   ]
  },
  {
   "cell_type": "code",
   "execution_count": 15,
   "id": "2fa60e0e",
   "metadata": {},
   "outputs": [
    {
     "ename": "NameError",
     "evalue": "name 'slpm' is not defined",
     "output_type": "error",
     "traceback": [
      "\u001b[0;31m---------------------------------------------------------------------------\u001b[0m",
      "\u001b[0;31mNameError\u001b[0m                                 Traceback (most recent call last)",
      "\u001b[0;32m<ipython-input-15-9fcc7aba6293>\u001b[0m in \u001b[0;36m<module>\u001b[0;34m\u001b[0m\n\u001b[0;32m----> 1\u001b[0;31m \u001b[0mslpm\u001b[0m \u001b[0;34m/=\u001b[0m \u001b[0;36m100\u001b[0m\u001b[0;34m\u001b[0m\u001b[0;34m\u001b[0m\u001b[0m\n\u001b[0m\u001b[1;32m      2\u001b[0m \u001b[0mMean\u001b[0m\u001b[0;34m=\u001b[0m\u001b[0mnp\u001b[0m\u001b[0;34m.\u001b[0m\u001b[0mmean\u001b[0m\u001b[0;34m(\u001b[0m\u001b[0mslpm\u001b[0m\u001b[0;34m,\u001b[0m\u001b[0maxis\u001b[0m\u001b[0;34m=\u001b[0m\u001b[0;36m0\u001b[0m\u001b[0;34m)\u001b[0m\u001b[0;34m\u001b[0m\u001b[0;34m\u001b[0m\u001b[0m\n\u001b[1;32m      3\u001b[0m \u001b[0;34m\u001b[0m\u001b[0m\n\u001b[1;32m      4\u001b[0m \u001b[0;31m### ベースの図\u001b[0m\u001b[0;34m\u001b[0m\u001b[0;34m\u001b[0m\u001b[0;34m\u001b[0m\u001b[0m\n\u001b[1;32m      5\u001b[0m \u001b[0max\u001b[0m \u001b[0;34m=\u001b[0m \u001b[0mdraw_graph\u001b[0m\u001b[0;34m(\u001b[0m\u001b[0mlon\u001b[0m\u001b[0;34m,\u001b[0m\u001b[0mlat\u001b[0m\u001b[0;34m,\u001b[0m\u001b[0mMean\u001b[0m\u001b[0;34m)\u001b[0m\u001b[0;34m\u001b[0m\u001b[0;34m\u001b[0m\u001b[0m\n",
      "\u001b[0;31mNameError\u001b[0m: name 'slpm' is not defined"
     ]
    }
   ],
   "source": [
    "slpm /= 100\n",
    "Mean=np.mean(slpm,axis=0)\n",
    "\n",
    "### ベースの図\n",
    "ax = draw_graph(lon,lat,Mean)\n",
    "### 等高線\n",
    "levels = np.arange(960.0, 1040.1, 4.0)\n",
    "colors = ['darkblue']\n",
    "mappable = ax.contour(lon,lat,Mean,levels=levels, colors=[\"black\"], transform=ccrs.PlateCarree())\n",
    "plt.clabel(mappable, fmt=\"%4.0f\", inline=True)\n",
    "\n",
    "Mean=np.mean(slpm,axis=0)\n",
    "plt.show()\n",
    "#draw_graph(lon,lat,Mean) どっちでもいいっぽい"
   ]
  },
  {
   "cell_type": "code",
   "execution_count": null,
   "id": "2153a19a",
   "metadata": {},
   "outputs": [],
   "source": []
  }
 ],
 "metadata": {
  "kernelspec": {
   "display_name": "Python 3",
   "language": "python",
   "name": "python3"
  },
  "language_info": {
   "codemirror_mode": {
    "name": "ipython",
    "version": 3
   },
   "file_extension": ".py",
   "mimetype": "text/x-python",
   "name": "python",
   "nbconvert_exporter": "python",
   "pygments_lexer": "ipython3",
   "version": "3.6.8"
  }
 },
 "nbformat": 4,
 "nbformat_minor": 5
}
